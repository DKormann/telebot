{
 "cells": [
  {
   "cell_type": "code",
   "execution_count": 2,
   "metadata": {},
   "outputs": [],
   "source": [
    "import json\n",
    "from dataclasses import dataclass\n",
    "import asyncio\n",
    "import time"
   ]
  },
  {
   "cell_type": "code",
   "execution_count": 13,
   "metadata": {},
   "outputs": [
    {
     "name": "stdout",
     "output_type": "stream",
     "text": [
      "task finished!\n",
      "task finished!\n",
      "task finished!\n"
     ]
    }
   ],
   "source": [
    "async def task():\n",
    "    await asyncio.sleep(1)\n",
    "    print(\"task finished!\")\n",
    "\n",
    "asyncio.create_task(task())\n",
    "asyncio.create_task(task())\n",
    "asyncio.create_task(task())\n",
    "\n",
    "await asyncio.sleep(2)"
   ]
  },
  {
   "cell_type": "code",
   "execution_count": 17,
   "metadata": {},
   "outputs": [
    {
     "name": "stdout",
     "output_type": "stream",
     "text": [
      "4\n"
     ]
    }
   ],
   "source": [
    "def f(x,*_):\n",
    "    print(x)\n",
    "\n",
    "f(*[4,1])"
   ]
  },
  {
   "cell_type": "code",
   "execution_count": 20,
   "metadata": {},
   "outputs": [
    {
     "data": {
      "text/plain": [
       "'f'"
      ]
     },
     "execution_count": 20,
     "metadata": {},
     "output_type": "execute_result"
    }
   ],
   "source": [
    "f.__name__"
   ]
  },
  {
   "cell_type": "code",
   "execution_count": 19,
   "metadata": {},
   "outputs": [],
   "source": [
    "tool_list = [{\n",
    "    \"title\": \"set_timer\",\n",
    "    \"description\": \"create a timer object\",\n",
    "    \"code\":\"def set_timer(seconds:int,description:str):\\n    print(f\\\"creating timer {seconds,description}\\\")\"\n",
    "}]\n",
    "\n",
    "with open(\"./tools/tool_list.json\",'w') as f:\n",
    "    json.dump(tool_list, f,indent=4)"
   ]
  },
  {
   "cell_type": "code",
   "execution_count": 28,
   "metadata": {},
   "outputs": [],
   "source": [
    "def parse(title, code):\n",
    "    exec(code)\n",
    "    fn = locals()[title]\n",
    "    return fn\n",
    "\n",
    "fn = parse(tool_list[0]['title'], tool_list[0]['code'])"
   ]
  },
  {
   "cell_type": "code",
   "execution_count": 32,
   "metadata": {},
   "outputs": [],
   "source": [
    "class Tool:\n",
    "    def __init__(self, data):\n",
    "        self.title = data['title']\n",
    "        self.description = data['description']\n",
    "        self.code = data['code']\n",
    "\n",
    "        exec(self.code)\n",
    "        self.fn = locals()[self.title]\n",
    "\n",
    "    def __call__(self, *args, **kwargs):\n",
    "        return self.fn(*args,**kwargs)"
   ]
  },
  {
   "cell_type": "code",
   "execution_count": 1,
   "metadata": {},
   "outputs": [],
   "source": [
    "import json"
   ]
  },
  {
   "cell_type": "code",
   "execution_count": 5,
   "metadata": {},
   "outputs": [],
   "source": [
    "with open(\"../src/tools.json\",'w') as f:\n",
    "    json.dump(d,f,indent=4)"
   ]
  },
  {
   "cell_type": "code",
   "execution_count": 3,
   "metadata": {},
   "outputs": [
    {
     "data": {
      "text/plain": [
       "[{'type': 'function',\n",
       "  'function': {'name': 'helloWorld',\n",
       "   'description': \"This function takes a language as input and returns 'Hello World' in that language.\",\n",
       "   'parameters': {'type': 'object',\n",
       "    'properties': {'language': {'type': 'string',\n",
       "      'description': \"The language for which 'Hello World' should be generated. It supports English, German, Spanish, Portuguese, and French.\"}},\n",
       "    'required': ['language']},\n",
       "   'code': \"async def helloWorld(language):\\n    if language.lower() == 'english':\\n        return 'Hello World'\\n    elif language.lower() == 'german':\\n        return 'Hallo Welt'\\n    elif language.lower() == 'spanish':\\n        return 'Hola Mundo'\\n    elif language.lower() == 'portuguese':\\n        return 'Olá Mundo'\\n    elif language.lower() == 'french':\\n        return 'Bonjour le Monde'\\n    else:\\n        return 'Language not supported'\"}},\n",
       " {'type': 'function',\n",
       "  'function': {'name': 'execute_python_code',\n",
       "   'description': 'Execute any python code',\n",
       "   'parameters': {'type': 'object',\n",
       "    'properties': {'code': {'type': 'string',\n",
       "      'description': 'Python code to be executed'}},\n",
       "    'required': ['code']},\n",
       "   'code': \"async def execute_python_code(code):\\n    try:\\n        exec(code)\\n        return {'result': 'Code executed successfully'}\\n    except Exception as e:\\n        return {'error': str(e)}\"}},\n",
       " {'type': 'function',\n",
       "  'function': {'name': 'helloWorld',\n",
       "   'description': \"This function takes a language as input and returns 'Hello World' in that language.\",\n",
       "   'parameters': {'type': 'object',\n",
       "    'properties': {'language': {'type': 'string',\n",
       "      'description': \"The english name of the language in which 'Hello World' should be returned, lowercase\"}},\n",
       "    'required': ['language']},\n",
       "   'code': \"async def helloWorld(language):\\n    hello_world_map = {\\n        'english': 'Hello World',\\n        'spanish': 'Hola Mundoooo',\\n        'french': 'Bonjour le mondeee',\\n        'german': 'Hallo Weld',\\n        # Add more languages as needed\\n    }\\n    return hello_world_map.get(language, 'Language not supported')\"}}]"
      ]
     },
     "execution_count": 3,
     "metadata": {},
     "output_type": "execute_result"
    }
   ],
   "source": []
  }
 ],
 "metadata": {
  "kernelspec": {
   "display_name": "develop",
   "language": "python",
   "name": "python3"
  },
  "language_info": {
   "codemirror_mode": {
    "name": "ipython",
    "version": 3
   },
   "file_extension": ".py",
   "mimetype": "text/x-python",
   "name": "python",
   "nbconvert_exporter": "python",
   "pygments_lexer": "ipython3",
   "version": "3.11.5"
  }
 },
 "nbformat": 4,
 "nbformat_minor": 2
}
