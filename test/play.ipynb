{
 "cells": [
  {
   "cell_type": "code",
   "execution_count": 11,
   "metadata": {},
   "outputs": [],
   "source": [
    "import json\n",
    "from dataclasses import dataclass"
   ]
  },
  {
   "cell_type": "code",
   "execution_count": 19,
   "metadata": {},
   "outputs": [],
   "source": [
    "tool_list = [{\n",
    "    \"title\": \"set_timer\",\n",
    "    \"description\": \"create a timer object\",\n",
    "    \"code\":\"def set_timer(seconds:int,description:str):\\n    print(f\\\"creating timer {seconds,description}\\\")\"\n",
    "}]\n",
    "\n",
    "with open(\"./tools/tool_list.json\",'w') as f:\n",
    "    json.dump(tool_list, f,indent=4)"
   ]
  },
  {
   "cell_type": "code",
   "execution_count": 28,
   "metadata": {},
   "outputs": [],
   "source": [
    "def parse(title, code):\n",
    "    exec(code)\n",
    "    fn = locals()[title]\n",
    "    return fn\n",
    "\n",
    "fn = parse(tool_list[0]['title'], tool_list[0]['code'])"
   ]
  },
  {
   "cell_type": "code",
   "execution_count": 32,
   "metadata": {},
   "outputs": [],
   "source": [
    "class Tool:\n",
    "    def __init__(self, data):\n",
    "        self.title = data['title']\n",
    "        self.description = data['description']\n",
    "        self.code = data['code']\n",
    "\n",
    "        exec(self.code)\n",
    "        self.fn = locals()[self.title]\n",
    "\n",
    "    def __call__(self, *args, **kwargs):\n",
    "        return self.fn(*args,**kwargs)"
   ]
  },
  {
   "cell_type": "code",
   "execution_count": 35,
   "metadata": {},
   "outputs": [],
   "source": [
    "code = \"\"\"```python\n",
    "import datetime\n",
    "\n",
    "def get_current_time():\n",
    "    current_time = datetime.datetime.now().strftime('%H:%M:%S')\n",
    "    return current_time\n",
    "```\"\"\""
   ]
  },
  {
   "cell_type": "code",
   "execution_count": 37,
   "metadata": {},
   "outputs": [],
   "source": [
    "lines = code.split(\"\\n\")"
   ]
  },
  {
   "cell_type": "code",
   "execution_count": 38,
   "metadata": {},
   "outputs": [
    {
     "data": {
      "text/plain": [
       "['```python',\n",
       " 'import datetime',\n",
       " '',\n",
       " 'def get_current_time():',\n",
       " \"    current_time = datetime.datetime.now().strftime('%H:%M:%S')\",\n",
       " '    return current_time',\n",
       " '```']"
      ]
     },
     "execution_count": 38,
     "metadata": {},
     "output_type": "execute_result"
    }
   ],
   "source": [
    "lines"
   ]
  }
 ],
 "metadata": {
  "kernelspec": {
   "display_name": "develop",
   "language": "python",
   "name": "python3"
  },
  "language_info": {
   "codemirror_mode": {
    "name": "ipython",
    "version": 3
   },
   "file_extension": ".py",
   "mimetype": "text/x-python",
   "name": "python",
   "nbconvert_exporter": "python",
   "pygments_lexer": "ipython3",
   "version": "3.11.5"
  }
 },
 "nbformat": 4,
 "nbformat_minor": 2
}
