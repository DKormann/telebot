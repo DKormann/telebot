{
 "cells": [
  {
   "cell_type": "markdown",
   "metadata": {},
   "source": [
    "## ackerman function\n",
    "\n",
    "$A(0,n) = n + 1$\n",
    "\n",
    "$A(m,0) = A(m-1,1)$\n",
    "\n",
    "$A(m,n) = A(m-1, A(m,n-1))$"
   ]
  },
  {
   "cell_type": "code",
   "execution_count": 1,
   "metadata": {},
   "outputs": [],
   "source": [
    "Q = -1\n",
    "\n",
    "def ack(m,n):\n",
    "    memory = {}\n",
    "    stack = [(m,n)]\n",
    "    res = None\n",
    "    count = 0\n",
    "    while stack:\n",
    "        (m,n) = stack.pop()\n",
    "        prefix = lambda : \"|  \"*count\n",
    "        if m == Q:\n",
    "            memory[n] = res\n",
    "            count -=1\n",
    "            print(prefix()+f\"so I know ack{n} also is {res}.\")\n",
    "            continue\n",
    "        if n == Q: \n",
    "            stack.append((m,res))\n",
    "            continue\n",
    "        if (m,n) in memory: \n",
    "            res = memory[(m,n)]\n",
    "            print(prefix()+ f\"i remember ack{m,n} is {res}\")\n",
    "            continue\n",
    "        print (prefix()+ f\"what is ack{m,n}?\")\n",
    "        stack.append((Q,(m,n)))\n",
    "        if m == 0: \n",
    "            res = n+1\n",
    "            memory[n] = res\n",
    "            print(prefix()+f\"obviously it's {res}\")\n",
    "            count -=1\n",
    "            stack.pop()\n",
    "        elif n == 0: \n",
    "            print(prefix()+f\"well it's ack({m-1}, 1)\")\n",
    "            stack.append((m-1,1))\n",
    "        else:\n",
    "            print (prefix()+f\"well it's ack({m-1}, ack({m}, {n-1}))\")\n",
    "            stack.append((m-1,Q))\n",
    "            stack.append((m,n-1))\n",
    "        count+=1\n",
    "    return res"
   ]
  },
  {
   "cell_type": "code",
   "execution_count": 3,
   "metadata": {},
   "outputs": [
    {
     "name": "stdout",
     "output_type": "stream",
     "text": [
      "what is ack(2, 2)?\n",
      "well it's ack(1, ack(2, 1))\n",
      "|  what is ack(2, 1)?\n",
      "|  well it's ack(1, ack(2, 0))\n",
      "|  |  what is ack(2, 0)?\n",
      "|  |  well it's ack(1, 1)\n",
      "|  |  |  what is ack(1, 1)?\n",
      "|  |  |  well it's ack(0, ack(1, 0))\n",
      "|  |  |  |  what is ack(1, 0)?\n",
      "|  |  |  |  well it's ack(0, 1)\n",
      "|  |  |  |  |  what is ack(0, 1)?\n",
      "|  |  |  |  |  obviously it's 2\n",
      "|  |  |  |  so I know ack(1, 0) also is 2.\n",
      "|  |  |  |  what is ack(0, 2)?\n",
      "|  |  |  |  obviously it's 3\n",
      "|  |  |  so I know ack(1, 1) also is 3.\n",
      "|  |  so I know ack(2, 0) also is 3.\n",
      "|  |  what is ack(1, 3)?\n",
      "|  |  well it's ack(0, ack(1, 2))\n",
      "|  |  |  what is ack(1, 2)?\n",
      "|  |  |  well it's ack(0, ack(1, 1))\n",
      "|  |  |  |  i remember ack(1, 1) is 3\n",
      "|  |  |  |  what is ack(0, 3)?\n",
      "|  |  |  |  obviously it's 4\n",
      "|  |  |  so I know ack(1, 2) also is 4.\n",
      "|  |  |  what is ack(0, 4)?\n",
      "|  |  |  obviously it's 5\n",
      "|  |  so I know ack(1, 3) also is 5.\n",
      "|  so I know ack(2, 1) also is 5.\n",
      "|  what is ack(1, 5)?\n",
      "|  well it's ack(0, ack(1, 4))\n",
      "|  |  what is ack(1, 4)?\n",
      "|  |  well it's ack(0, ack(1, 3))\n",
      "|  |  |  i remember ack(1, 3) is 5\n",
      "|  |  |  what is ack(0, 5)?\n",
      "|  |  |  obviously it's 6\n",
      "|  |  so I know ack(1, 4) also is 6.\n",
      "|  |  what is ack(0, 6)?\n",
      "|  |  obviously it's 7\n",
      "|  so I know ack(1, 5) also is 7.\n",
      "so I know ack(2, 2) also is 7.\n"
     ]
    },
    {
     "data": {
      "text/plain": [
       "7"
      ]
     },
     "execution_count": 3,
     "metadata": {},
     "output_type": "execute_result"
    }
   ],
   "source": [
    "ack(2,2)"
   ]
  }
 ],
 "metadata": {
  "kernelspec": {
   "display_name": "develop",
   "language": "python",
   "name": "python3"
  },
  "language_info": {
   "codemirror_mode": {
    "name": "ipython",
    "version": 3
   },
   "file_extension": ".py",
   "mimetype": "text/x-python",
   "name": "python",
   "nbconvert_exporter": "python",
   "pygments_lexer": "ipython3",
   "version": "3.11.5"
  }
 },
 "nbformat": 4,
 "nbformat_minor": 2
}
